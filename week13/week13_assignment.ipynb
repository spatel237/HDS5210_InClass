{
  "cells": [
    {
      "cell_type": "markdown",
      "metadata": {
        "nbgrader": {
          "grade": false,
          "grade_id": "cell-fc1c39d0d6f8b82a",
          "locked": true,
          "schema_version": 1,
          "solution": false
        },
        "id": "e_v8K8uk8IK3"
      },
      "source": [
        "# Week 13 Programming Assignment\n",
        "\n",
        "As you're working on identifying data for your final project, it's helpful to spend some time exploring your various data files.  For this week's assignment, I'd like you to take a few of the ideas from the the lectures, review assignment, and tonight's lecture to start exploring the data you plan to use for the final project.\n",
        "\n",
        "For the following activities, you can use just one of the data files that you've identified, or you can do the activities using different data files.  That's up to you.  Check in your data file along with this exercise. Please describe what you're doing in a Markdown cell or in the comments of your code.  When you've completed the assignment, submit it as normal."
      ]
    },
    {
      "cell_type": "markdown",
      "metadata": {
        "id": "zAcbjY_W8IK8"
      },
      "source": [
        "### 1. Basic Statistics\n",
        "\n",
        "Use Python to read in your data file and show many rows and columns your data has."
      ]
    },
    {
      "cell_type": "code",
      "execution_count": 9,
      "metadata": {
        "id": "YMoDP0jl8IK8",
        "outputId": "36027b35-c7e6-4ec5-92f0-a224785833e4",
        "colab": {
          "base_uri": "https://localhost:8080/"
        }
      },
      "outputs": [
        {
          "output_type": "stream",
          "name": "stdout",
          "text": [
            "Preview of the dataset:\n",
            "       country iso_code        date  total_vaccinations  people_vaccinated  \\\n",
            "0  Afghanistan      AFG  2021-02-22                 0.0                0.0   \n",
            "1  Afghanistan      AFG  2021-02-23                 NaN                NaN   \n",
            "2  Afghanistan      AFG  2021-02-24                 NaN                NaN   \n",
            "3  Afghanistan      AFG  2021-02-25                 NaN                NaN   \n",
            "4  Afghanistan      AFG  2021-02-26                 NaN                NaN   \n",
            "\n",
            "   people_fully_vaccinated  daily_vaccinations_raw  daily_vaccinations  \\\n",
            "0                      NaN                     NaN                 NaN   \n",
            "1                      NaN                     NaN              1367.0   \n",
            "2                      NaN                     NaN              1367.0   \n",
            "3                      NaN                     NaN              1367.0   \n",
            "4                      NaN                     NaN              1367.0   \n",
            "\n",
            "   total_vaccinations_per_hundred  people_vaccinated_per_hundred  \\\n",
            "0                             0.0                            0.0   \n",
            "1                             NaN                            NaN   \n",
            "2                             NaN                            NaN   \n",
            "3                             NaN                            NaN   \n",
            "4                             NaN                            NaN   \n",
            "\n",
            "   people_fully_vaccinated_per_hundred  daily_vaccinations_per_million  \\\n",
            "0                                  NaN                             NaN   \n",
            "1                                  NaN                            35.0   \n",
            "2                                  NaN                            35.0   \n",
            "3                                  NaN                            35.0   \n",
            "4                                  NaN                            35.0   \n",
            "\n",
            "                                          vaccines                source_name  \\\n",
            "0  BBIBP-CorV, Oxford/AstraZeneca, Pfizer/BioNTech  World Health Organization   \n",
            "1  BBIBP-CorV, Oxford/AstraZeneca, Pfizer/BioNTech  World Health Organization   \n",
            "2  BBIBP-CorV, Oxford/AstraZeneca, Pfizer/BioNTech  World Health Organization   \n",
            "3  BBIBP-CorV, Oxford/AstraZeneca, Pfizer/BioNTech  World Health Organization   \n",
            "4  BBIBP-CorV, Oxford/AstraZeneca, Pfizer/BioNTech  World Health Organization   \n",
            "\n",
            "             source_website  \n",
            "0  https://covid19.who.int/  \n",
            "1  https://covid19.who.int/  \n",
            "2  https://covid19.who.int/  \n",
            "3  https://covid19.who.int/  \n",
            "4  https://covid19.who.int/  \n",
            "\n",
            "The dataset has 25862 rows and 15 columns.\n"
          ]
        }
      ],
      "source": [
        "import pandas as pd\n",
        "\n",
        "csv_file_path = 'country_vaccinations.csv'\n",
        "data = pd.read_csv('/content/country_vaccinations.csv')\n",
        "\n",
        "# Display the first few rows of the dataset to understand its structure\n",
        "print(\"Preview of the dataset:\")\n",
        "print(data.head())\n",
        "\n",
        "# Get the number of rows and columns in the dataset\n",
        "num_rows, num_columns = data.shape\n",
        "\n",
        "# Print the results\n",
        "print(f\"\\nThe dataset has {num_rows} rows and {num_columns} columns.\")"
      ]
    },
    {
      "cell_type": "markdown",
      "metadata": {
        "id": "mJATsXy68IK9"
      },
      "source": [
        "### 2. Data Diversity\n",
        "\n",
        "Use Python to identify how many unique values each column in your data has.  Use Python to identify which column has the greatest number of distinct values (aka the most diversity)?  If your data has a unique identifier (e.g. a person or visit or record ID) then find the column with the next most number of unique values."
      ]
    },
    {
      "cell_type": "code",
      "execution_count": 10,
      "metadata": {
        "id": "YXkR13Oe8IK9",
        "outputId": "9c4595af-74d0-4e6b-ec98-b353219a74b0",
        "colab": {
          "base_uri": "https://localhost:8080/"
        }
      },
      "outputs": [
        {
          "output_type": "stream",
          "name": "stdout",
          "text": [
            "Unique Values per Column:\n",
            "country                                  217\n",
            "iso_code                                 217\n",
            "date                                     201\n",
            "total_vaccinations                     14100\n",
            "people_vaccinated                      13240\n",
            "people_fully_vaccinated                10399\n",
            "daily_vaccinations_raw                 10485\n",
            "daily_vaccinations                     14902\n",
            "total_vaccinations_per_hundred          5699\n",
            "people_vaccinated_per_hundred           4619\n",
            "people_fully_vaccinated_per_hundred     3086\n",
            "daily_vaccinations_per_million          8348\n",
            "vaccines                                  56\n",
            "source_name                               95\n",
            "source_website                           150\n",
            "dtype: int64\n",
            "\n",
            "Most Diverse Column:\n",
            "Column: daily_vaccinations, Unique Values: 14902\n",
            "\n",
            "Next Most Diverse Column (Excluding Identifiers):\n",
            "Column: daily_vaccinations, Unique Values: 14902\n"
          ]
        }
      ],
      "source": [
        "# Find the number of unique values for each column\n",
        "unique_counts = data.nunique()\n",
        "\n",
        "# Identify the column with the most unique values\n",
        "most_diverse_column = unique_counts.idxmax()\n",
        "most_diverse_count = unique_counts.max()\n",
        "\n",
        "# Exclude unique identifiers (e.g., 'iso_code', 'country') and find the next most diverse column\n",
        "columns_to_exclude = ['iso_code', 'country']\n",
        "diverse_without_id = unique_counts.drop(columns_to_exclude, errors='ignore')\n",
        "next_most_diverse_column = diverse_without_id.idxmax()\n",
        "next_most_diverse_count = diverse_without_id.max()\n",
        "\n",
        "# Step 6: Print the results\n",
        "print(\"Unique Values per Column:\")\n",
        "print(unique_counts)\n",
        "print(\"\\nMost Diverse Column:\")\n",
        "print(f\"Column: {most_diverse_column}, Unique Values: {most_diverse_count}\")\n",
        "print(\"\\nNext Most Diverse Column (Excluding Identifiers):\")\n",
        "print(f\"Column: {next_most_diverse_column}, Unique Values: {next_most_diverse_count}\")"
      ]
    },
    {
      "cell_type": "markdown",
      "metadata": {
        "id": "OWrNWd6q8IK-"
      },
      "source": [
        "### 3. Data Redundancy\n",
        "\n",
        "Use Python to identify any columns in your data where the value for every row is the same.  For example, if you had a gender column and all the rows said 'M', then you would want to write the code that helped you determine that."
      ]
    },
    {
      "cell_type": "code",
      "execution_count": 11,
      "metadata": {
        "id": "oNSKV4-G8IK-",
        "outputId": "f0d2f88b-59f0-4a57-de1d-4bbdf713dec5",
        "colab": {
          "base_uri": "https://localhost:8080/"
        }
      },
      "outputs": [
        {
          "output_type": "stream",
          "name": "stdout",
          "text": [
            "Preview of the dataset:\n",
            "       country iso_code        date  total_vaccinations  people_vaccinated  \\\n",
            "0  Afghanistan      AFG  2021-02-22                 0.0                0.0   \n",
            "1  Afghanistan      AFG  2021-02-23                 NaN                NaN   \n",
            "2  Afghanistan      AFG  2021-02-24                 NaN                NaN   \n",
            "3  Afghanistan      AFG  2021-02-25                 NaN                NaN   \n",
            "4  Afghanistan      AFG  2021-02-26                 NaN                NaN   \n",
            "\n",
            "   people_fully_vaccinated  daily_vaccinations_raw  daily_vaccinations  \\\n",
            "0                      NaN                     NaN                 NaN   \n",
            "1                      NaN                     NaN              1367.0   \n",
            "2                      NaN                     NaN              1367.0   \n",
            "3                      NaN                     NaN              1367.0   \n",
            "4                      NaN                     NaN              1367.0   \n",
            "\n",
            "   total_vaccinations_per_hundred  people_vaccinated_per_hundred  \\\n",
            "0                             0.0                            0.0   \n",
            "1                             NaN                            NaN   \n",
            "2                             NaN                            NaN   \n",
            "3                             NaN                            NaN   \n",
            "4                             NaN                            NaN   \n",
            "\n",
            "   people_fully_vaccinated_per_hundred  daily_vaccinations_per_million  \\\n",
            "0                                  NaN                             NaN   \n",
            "1                                  NaN                            35.0   \n",
            "2                                  NaN                            35.0   \n",
            "3                                  NaN                            35.0   \n",
            "4                                  NaN                            35.0   \n",
            "\n",
            "                                          vaccines                source_name  \\\n",
            "0  BBIBP-CorV, Oxford/AstraZeneca, Pfizer/BioNTech  World Health Organization   \n",
            "1  BBIBP-CorV, Oxford/AstraZeneca, Pfizer/BioNTech  World Health Organization   \n",
            "2  BBIBP-CorV, Oxford/AstraZeneca, Pfizer/BioNTech  World Health Organization   \n",
            "3  BBIBP-CorV, Oxford/AstraZeneca, Pfizer/BioNTech  World Health Organization   \n",
            "4  BBIBP-CorV, Oxford/AstraZeneca, Pfizer/BioNTech  World Health Organization   \n",
            "\n",
            "             source_website  \n",
            "0  https://covid19.who.int/  \n",
            "1  https://covid19.who.int/  \n",
            "2  https://covid19.who.int/  \n",
            "3  https://covid19.who.int/  \n",
            "4  https://covid19.who.int/  \n",
            "\n",
            "\n",
            "No redundant columns found in the dataset.\n"
          ]
        }
      ],
      "source": [
        "# Display a preview of the dataset\n",
        "print(\"Preview of the dataset:\")\n",
        "print(data.head())\n",
        "print(\"\\n\")\n",
        "\n",
        "# Identify redundant columns\n",
        "redundant_columns = [col for col in data.columns if data[col].nunique() == 1]\n",
        "\n",
        "# Output the results\n",
        "if redundant_columns:\n",
        "    print(\"The following columns have the same value for all rows (redundant):\")\n",
        "    print(redundant_columns)\n",
        "else:\n",
        "    print(\"No redundant columns found in the dataset.\")"
      ]
    },
    {
      "cell_type": "markdown",
      "metadata": {
        "id": "IEYe9eTB8IK_"
      },
      "source": [
        "### 4. Range of Values\n",
        "\n",
        "Your data almost certainly has some numeric columns that can be summed or averaged.  Create a histogram that shows the distribution of values for this column."
      ]
    },
    {
      "cell_type": "code",
      "execution_count": 12,
      "metadata": {
        "id": "dTXGBvoD8IK_",
        "outputId": "e9c12fe6-429d-41c9-c18c-3ada47a53f91",
        "colab": {
          "base_uri": "https://localhost:8080/",
          "height": 701
        }
      },
      "outputs": [
        {
          "output_type": "stream",
          "name": "stdout",
          "text": [
            "Numeric columns in the dataset: Index(['total_vaccinations', 'people_vaccinated', 'people_fully_vaccinated',\n",
            "       'daily_vaccinations_raw', 'daily_vaccinations',\n",
            "       'total_vaccinations_per_hundred', 'people_vaccinated_per_hundred',\n",
            "       'people_fully_vaccinated_per_hundred',\n",
            "       'daily_vaccinations_per_million'],\n",
            "      dtype='object')\n"
          ]
        },
        {
          "output_type": "execute_result",
          "data": {
            "text/plain": [
              "Text(0, 0.5, 'Frequency')"
            ]
          },
          "metadata": {},
          "execution_count": 12
        },
        {
          "output_type": "display_data",
          "data": {
            "text/plain": [
              "<Figure size 1000x600 with 1 Axes>"
            ],
            "image/png": "[encoded data removed]"
          },
          "metadata": {}
        }
      ],
      "source": [
        "# Identify numeric columns in the dataset\n",
        "numeric_columns = data.select_dtypes(include=['number']).columns\n",
        "print(\"Numeric columns in the dataset:\", numeric_columns)\n",
        "\n",
        "# Choose a numeric column for visualization\n",
        "column_to_plot = 'daily_vaccinations'  # Replace with another column if needed\n",
        "\n",
        "# Drop NaN values from the selected column\n",
        "numeric_data = data[column_to_plot].dropna()\n",
        "\n",
        "# Create the histogram using pandas' built-in functionality\n",
        "histogram = numeric_data.hist(bins=50, figsize=(10, 6), grid=True)\n",
        "histogram.set_title(f\"Distribution of {column_to_plot}\", fontsize=16)\n",
        "histogram.set_xlabel(column_to_plot, fontsize=14)\n",
        "histogram.set_ylabel(\"Frequency\", fontsize=14)"
      ]
    },
    {
      "cell_type": "markdown",
      "metadata": {
        "id": "yOp9P4-w8ILA"
      },
      "source": [
        "### 5. Discussion\n",
        "\n",
        "Do any additional exploration of this data that you think may be interesting and include your code here.  Then go onto Slack and make a post about what you've observed.  Share your observation.  Share your code, if you like.  Share a screenshot of the data or a chart based on the data.\n",
        "\n",
        "Then comment on at least two other people's observations that they share on Slack.  (Use the reply as thread option in Slack to keep the conversation organized.)"
      ]
    },
    {
      "cell_type": "code",
      "execution_count": 13,
      "metadata": {
        "id": "X1hI06hw8ILA",
        "outputId": "b663e6de-b60d-446c-d579-8b5814180c15",
        "colab": {
          "base_uri": "https://localhost:8080/",
          "height": 809
        }
      },
      "outputs": [
        {
          "output_type": "stream",
          "name": "stdout",
          "text": [
            "Top 5 countries with the highest total vaccinations:\n",
            "country\n",
            "China             1.029223e+09\n",
            "United States     3.179664e+08\n",
            "India             2.742866e+08\n",
            "Brazil            8.696057e+07\n",
            "United Kingdom    7.457768e+07\n",
            "Name: total_vaccinations, dtype: float64\n"
          ]
        },
        {
          "output_type": "display_data",
          "data": {
            "text/plain": [
              "<Figure size 1000x600 with 1 Axes>"
            ],
            "image/png": "[encoded data removed]"
          },
          "metadata": {}
        }
      ],
      "source": [
        "import pandas as pd\n",
        "\n",
        "# Load the dataset\n",
        "csv_file_path = 'country_vaccinations.csv'  # Path to the dataset\n",
        "data = pd.read_csv('/content/country_vaccinations.csv')\n",
        "\n",
        "# Analyze trends in vaccination data\n",
        "# Example: Find the top 5 countries with the highest total vaccinations\n",
        "top_countries = data.groupby('country')['total_vaccinations'].max().sort_values(ascending=False).head(5)\n",
        "\n",
        "# Plot the top 5 countries with the highest total vaccinations using pandas\n",
        "top_countries.plot(kind='bar', title='Top 5 Countries with the Highest Total Vaccinations',\n",
        "                   color='skyblue', figsize=(10, 6), legend=False)\n",
        "\n",
        "# Print observations\n",
        "print(\"Top 5 countries with the highest total vaccinations:\")\n",
        "print(top_countries)"
      ]
    },
    {
      "cell_type": "markdown",
      "metadata": {
        "id": "f-6eGr6U8ILA"
      },
      "source": [
        "\n",
        "\n",
        "---\n",
        "\n",
        "\n",
        "\n",
        "## Submitting Your Work\n",
        "\n",
        "Submit your work as usual."
      ]
    }
  ],
  "metadata": {
    "celltoolbar": "Create Assignment",
    "kernelspec": {
      "display_name": "Python 3",
      "language": "python",
      "name": "python3"
    },
    "language_info": {
      "codemirror_mode": {
        "name": "ipython",
        "version": 3
      },
      "file_extension": ".py",
      "mimetype": "text/x-python",
      "name": "python",
      "nbconvert_exporter": "python",
      "pygments_lexer": "ipython3",
      "version": "3.6.7"
    },
    "colab": {
      "provenance": []
    }
  },
  "nbformat": 4,
  "nbformat_minor": 0
}